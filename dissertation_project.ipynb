{
  "nbformat": 4,
  "nbformat_minor": 0,
  "metadata": {
    "colab": {
      "provenance": [],
      "authorship_tag": "ABX9TyPuhbEaxLi0WqD6ck012hs1",
      "include_colab_link": true
    },
    "kernelspec": {
      "name": "python3",
      "display_name": "Python 3"
    },
    "language_info": {
      "name": "python"
    }
  },
  "cells": [
    {
      "cell_type": "markdown",
      "metadata": {
        "id": "view-in-github",
        "colab_type": "text"
      },
      "source": [
        "<a href=\"https://colab.research.google.com/github/chop5551/dissertation_project/blob/main/dissertation_project.ipynb\" target=\"_parent\"><img src=\"https://colab.research.google.com/assets/colab-badge.svg\" alt=\"Open In Colab\"/></a>"
      ]
    },
    {
      "cell_type": "code",
      "source": [
        "!pip install -q -U google-generativeai\n"
      ],
      "metadata": {
        "id": "M4e88ip9Jzyy"
      },
      "execution_count": null,
      "outputs": []
    },
    {
      "cell_type": "code",
      "execution_count": null,
      "metadata": {
        "id": "Y7Ceo5ou_hnx"
      },
      "outputs": [],
      "source": [
        "# Импорт необходимых библиотек\n",
        "import pathlib  # Библиотека для работы с путями к файлам\n",
        "import textwrap  # Библиотека для форматирования текста\n",
        "import json  # Библиотека для работы с JSON\n",
        "import google.generativeai as genai  # Библиотека для работы с моделями Generative AI от Google\n",
        "from IPython.display import display  # Библиотека для отображения результатов в Jupyter Notebook\n",
        "from IPython.display import Markdown  # Библиотека для форматирования текста в Markdown\n",
        "import time  # Библиотека для замера времени\n",
        "import threading  # Импортируем threading для работы с потоками\n",
        "\n",
        "# Функция для преобразования текста в Markdown с отступом\n",
        "def to_markdown(text):\n",
        "    text = text.replace('•', '  *')  # Заменяет пункты на маркеры\n",
        "    return Markdown(textwrap.indent(text, '> ', predicate=lambda _: True))  # Форматирует текст в Markdown с отступом\n",
        "\n",
        "# Используется для безопасного хранения ключа API\n",
        "from google.colab import userdata  # Импортирует модуль для работы с данными пользователя в Colab\n",
        "# Или используйте `os.getenv('GOOGLE_API_KEY')` для получения переменной среды.\n",
        "GOOGLE_API_KEY=userdata.get('GOOGLE_API_KEY')  # Получает ключ API из хранилища данных пользователя\n",
        "\n",
        "# Настройка соединения с API Google Generative AI\n",
        "genai.configure(api_key=GOOGLE_API_KEY)  # Устанавливает ключ API\n",
        "model = genai.GenerativeModel('gemini-1.5-flash')  # Выбирает модель Gemini 1.5 Flash Latest\n",
        "#model = genai.GenerativeModel('gemini-1.5-flash-latest')  # Выбирает модель Gemini 1.5 Flash Latest\n",
        "\n",
        "# Загрузка онтологии из файла\n",
        "with open('ontology.json', 'r', encoding='utf-8') as f:  # Открывает файл ontology.json на чтение с кодировкой UTF-8\n",
        "    ontology = json.load(f)  # Загружает данные из файла в формате JSON\n",
        "\n",
        "# Загрузка примеров из файла в виде текста\n",
        "with open('examples.txt', 'r') as f:  # Открывает файл examples.txt на чтение\n",
        "    examples = f.read()  # Считывает текст из файла\n",
        "\n",
        "# Промпт с онтологией, примерами и инструкциями (упрощенная версия)\n",
        "prompt_template = \"\"\"\n",
        "Ты — медицинский эксперт, способный анализировать клинические рекомендации и извлекать из них информацию о лечении заболеваний.\n",
        "\n",
        "Твоя задача — проанализировать текст клинической рекомендации и преобразовать его в структурированный формат JSON в виде графа знаний, следуя структуре предоставленной онтологии лечения заболеваний.\n",
        "\n",
        "Онтология:\n",
        "\n",
        "{ontology}\n",
        "\n",
        "Примеры:\n",
        "\n",
        "{examples}\n",
        "\n",
        "Проанализируй следующий текст и верни JSON-объект, соответствующий онтологии.\n",
        "\"\"\"\n",
        "\n",
        "# Загрузка текста КР из файла\n",
        "with open('clinical_recommendation.txt', 'r') as f:  # Открывает файл clinical_recommendation.txt на чтение\n",
        "    kr_text = f.read()  # Считывает текст из файла\n",
        "\n",
        "# Формирование полного промпта с текстом КР\n",
        "prompt = prompt_template.format(\n",
        "    ontology=json.dumps(ontology, indent=4, ensure_ascii=False).encode('utf-8').decode(),  # Декодируем перед выводом\n",
        "    examples=examples\n",
        ")  # Форматирует промпт, вставляя онтологию и примеры\n",
        "prompt += \"\\n\" + kr_text  # Добавляет текст КР к промту\n",
        "\n",
        "\n",
        "# Выполнение генерации контента с измерением времени\n",
        "start_time = time.time()  # Начало замера времени\n",
        "response = model.generate_content(prompt)  # Вызывает модель для генерации контента по промту\n",
        "elapsed_time = time.time() - start_time  # Конец замера времени\n",
        "print(f\"Время выполнения: {elapsed_time:.2f} секунд\")  # Выводит затраченное время\n",
        "\n",
        "# Отображение результата\n",
        "display(to_markdown(response.text))  # Отображает результат в Markdown\n",
        "\n",
        "# Проверка на пустой ответ\n",
        "if response.text:\n",
        "  # Отображение результата\n",
        "  display(to_markdown(response.text))  # Отображает результат в Markdown\n",
        "\n",
        "  # Сохранение результата в текстовый файл\n",
        "  with open('result.txt', 'w') as f:  # Открывает файл result.txt на запись\n",
        "      f.write(response.text)  # Записывает текст ответа в файл\n",
        "else:\n",
        "    print(\"Model returned an empty response.\")"
      ]
    }
  ]
}